{
 "cells": [
  {
   "cell_type": "code",
   "execution_count": 1,
   "id": "67bfb7ea",
   "metadata": {},
   "outputs": [
    {
     "ename": "ModuleNotFoundError",
     "evalue": "No module named 'pyPdf'",
     "output_type": "error",
     "traceback": [
      "\u001b[1;31m---------------------------------------------------------------------------\u001b[0m",
      "\u001b[1;31mModuleNotFoundError\u001b[0m                       Traceback (most recent call last)",
      "\u001b[1;32m<ipython-input-1-b790f0aaeacc>\u001b[0m in \u001b[0;36m<module>\u001b[1;34m\u001b[0m\n\u001b[1;32m----> 1\u001b[1;33m \u001b[1;32mfrom\u001b[0m \u001b[0mpyPdf\u001b[0m \u001b[1;32mimport\u001b[0m \u001b[0mPdfFileWriter\u001b[0m\u001b[1;33m,\u001b[0m \u001b[0mPdfFileReader\u001b[0m\u001b[1;33m\u001b[0m\u001b[1;33m\u001b[0m\u001b[0m\n\u001b[0m\u001b[0;32m      2\u001b[0m \u001b[1;32mimport\u001b[0m \u001b[0mStringIO\u001b[0m\u001b[1;33m\u001b[0m\u001b[1;33m\u001b[0m\u001b[0m\n\u001b[0;32m      3\u001b[0m \u001b[1;32mfrom\u001b[0m \u001b[0mreportlab\u001b[0m\u001b[1;33m.\u001b[0m\u001b[0mpdfgen\u001b[0m \u001b[1;32mimport\u001b[0m \u001b[0mcanvas\u001b[0m\u001b[1;33m\u001b[0m\u001b[1;33m\u001b[0m\u001b[0m\n\u001b[0;32m      4\u001b[0m \u001b[1;32mfrom\u001b[0m \u001b[0mreportlab\u001b[0m\u001b[1;33m.\u001b[0m\u001b[0mlib\u001b[0m\u001b[1;33m.\u001b[0m\u001b[0mpagesizes\u001b[0m \u001b[1;32mimport\u001b[0m \u001b[0mletter\u001b[0m\u001b[1;33m\u001b[0m\u001b[1;33m\u001b[0m\u001b[0m\n\u001b[0;32m      5\u001b[0m \u001b[1;33m\u001b[0m\u001b[0m\n",
      "\u001b[1;31mModuleNotFoundError\u001b[0m: No module named 'pyPdf'"
     ]
    }
   ],
   "source": [
    "from pyPdf import PdfFileWriter, PdfFileReader\n",
    "import StringIO\n",
    "from reportlab.pdfgen import canvas\n",
    "from reportlab.lib.pagesizes import letter\n",
    "\n",
    "packet = StringIO.StringIO()\n",
    "can = canvas.Canvas(packet, pagesize=letter)\n",
    "can.drawString(10, 100, \"1\")\n",
    "can.save()\n",
    "\n",
    "#move to the beginning of the StringIO buffer\n",
    "packet.seek(0)\n",
    "\n",
    "# create a new PDF with Reportlab\n",
    "new_pdf = PdfFileReader(packet)\n",
    "# read your existing PDF\n",
    "existing_pdf = PdfFileReader(file(\"Certificat_signature_template.pdf\", \"rb\"))\n",
    "output = PdfFileWriter()\n",
    "# add the \"watermark\" (which is the new pdf) on the existing page\n",
    "page = existing_pdf.getPage(0)\n",
    "page.mergePage(new_pdf.getPage(0))\n",
    "output.addPage(page)\n",
    "# finally, write \"output\" to a real file\n",
    "outputStream = file(\"destination.pdf\", \"wb\")\n",
    "output.write(outputStream)\n",
    "outputStream.close()"
   ]
  }
 ],
 "metadata": {
  "kernelspec": {
   "display_name": "Python 3",
   "language": "python",
   "name": "python3"
  },
  "language_info": {
   "codemirror_mode": {
    "name": "ipython",
    "version": 3
   },
   "file_extension": ".py",
   "mimetype": "text/x-python",
   "name": "python",
   "nbconvert_exporter": "python",
   "pygments_lexer": "ipython3",
   "version": "3.8.8"
  }
 },
 "nbformat": 4,
 "nbformat_minor": 5
}
